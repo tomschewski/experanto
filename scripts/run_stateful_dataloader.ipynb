{
 "cells": [
  {
   "cell_type": "code",
   "execution_count": 1,
   "metadata": {},
   "outputs": [
    {
     "name": "stdout",
     "output_type": "stream",
     "text": [
      "/src\n"
     ]
    }
   ],
   "source": [
    "%load_ext autoreload\n",
    "%autoreload 2\n",
    "import numpy as np\n",
    "import json\n",
    "\n",
    "import os\n",
    "print(os.getcwd())\n",
    "os.chdir(\"/src/code/Enigma/Libraries/PRS/tensorfabrik/scripts\")"
   ]
  },
  {
   "cell_type": "code",
   "execution_count": 2,
   "metadata": {},
   "outputs": [],
   "source": [
    "from run_stateful_dataloaders import *"
   ]
  },
  {
   "cell_type": "code",
   "execution_count": 33,
   "metadata": {},
   "outputs": [
    {
     "name": "stdout",
     "output_type": "stream",
     "text": [
      "first_half + second_half = \n",
      "[['X_83', 'X_53', 'X_70', 'X_45', 'X_44', 'X_39', 'X_22', 'X_80', 'X_10', 'X_0'], ['X_18', 'X_30', 'X_73', 'X_33', 'X_90', 'X_4', 'X_76', 'X_77', 'X_12', 'X_31'], ['X_55', 'X_88', 'X_26', 'X_42', 'X_69', 'X_15', 'X_40', 'X_96', 'X_9', 'X_72'], ['X_11', 'X_47', 'X_85', 'X_28', 'X_93', 'X_5', 'X_66', 'X_65', 'X_35', 'X_16'], ['X_49', 'X_34', 'X_7', 'X_95', 'X_27', 'X_19', 'X_81', 'X_25', 'X_62', 'X_13'], ['X_24', 'X_3', 'X_17', 'X_38', 'X_8', 'X_78', 'X_6', 'X_64', 'X_36', 'X_89']]\n",
      "[['X_56', 'X_99', 'X_54', 'X_43', 'X_50', 'X_67', 'X_46', 'X_68', 'X_61', 'X_97'], ['X_79', 'X_41', 'X_58', 'X_48', 'X_98', 'X_57', 'X_75', 'X_32', 'X_94', 'X_59'], ['X_63', 'X_84', 'X_37', 'X_29', 'X_1', 'X_52', 'X_21', 'X_2', 'X_23', 'X_87'], ['X_91', 'X_74', 'X_86', 'X_82', 'X_20', 'X_60', 'X_71', 'X_14', 'X_92', 'X_51']]\n",
      "full_epoch = \n",
      "[['X_83', 'X_53', 'X_70', 'X_45', 'X_44', 'X_39', 'X_22', 'X_80', 'X_10', 'X_0'], ['X_18', 'X_30', 'X_73', 'X_33', 'X_90', 'X_4', 'X_76', 'X_77', 'X_12', 'X_31'], ['X_55', 'X_88', 'X_26', 'X_42', 'X_69', 'X_15', 'X_40', 'X_96', 'X_9', 'X_72'], ['X_11', 'X_47', 'X_85', 'X_28', 'X_93', 'X_5', 'X_66', 'X_65', 'X_35', 'X_16'], ['X_49', 'X_34', 'X_7', 'X_95', 'X_27', 'X_19', 'X_81', 'X_25', 'X_62', 'X_13'], ['X_24', 'X_3', 'X_17', 'X_38', 'X_8', 'X_78', 'X_6', 'X_64', 'X_36', 'X_89']]\n",
      "[['X_56', 'X_99', 'X_54', 'X_43', 'X_50', 'X_67', 'X_46', 'X_68', 'X_61', 'X_97'], ['X_79', 'X_41', 'X_58', 'X_48', 'X_98', 'X_57', 'X_75', 'X_32', 'X_94', 'X_59'], ['X_63', 'X_84', 'X_37', 'X_29', 'X_1', 'X_52', 'X_21', 'X_2', 'X_23', 'X_87'], ['X_91', 'X_74', 'X_86', 'X_82', 'X_20', 'X_60', 'X_71', 'X_14', 'X_92', 'X_51']]\n",
      "StatefulDataLoader test passed!\n"
     ]
    }
   ],
   "source": [
    "test_stateful_dataloader()"
   ]
  },
  {
   "cell_type": "code",
   "execution_count": 37,
   "metadata": {},
   "outputs": [
    {
     "name": "stdout",
     "output_type": "stream",
     "text": [
      "\n",
      "First portion (interrupted run):\n",
      "Iteration 0: Dataset A, Batch: ['A_0', 'A_17', 'A_15', 'A_1', 'A_8']\n",
      "Iteration 1: Dataset B, Batch: ['B_8', 'B_1', 'B_5', 'B_0', 'B_7']\n",
      "Iteration 2: Dataset C, Batch: ['C_1', 'C_4', 'C_2', 'C_0', 'C_3']\n",
      "Cycle 1 completed\n",
      "Iteration 3: Dataset B, Batch: ['B_2', 'B_9', 'B_4', 'B_3', 'B_6']\n",
      "Iteration 4: Dataset C, Batch: ['C_3', 'C_1', 'C_2', 'C_0', 'C_4']\n",
      "Iteration 5: Dataset A, Batch: ['A_5', 'A_11', 'A_3', 'A_18', 'A_16']\n",
      "Cycle 2 completed\n",
      "Iteration 6: Dataset C, Batch: ['C_1', 'C_0', 'C_3', 'C_4', 'C_2']\n",
      "Iteration 7: Dataset B, Batch: ['B_0', 'B_1', 'B_8', 'B_5', 'B_3']\n",
      "Iteration 8: Dataset A, Batch: ['A_13', 'A_2', 'A_9', 'A_19', 'A_4']\n",
      "Cycle 3 completed\n",
      "Iteration 9: Dataset C, Batch: ['C_0', 'C_1', 'C_2', 'C_3', 'C_4']\n",
      "Iteration 10: Dataset B, Batch: ['B_4', 'B_7', 'B_9', 'B_6', 'B_2']\n",
      "\n",
      "Second portion (after state restoration):\n",
      "Iteration 0: Dataset A, Batch: ['A_12', 'A_7', 'A_10', 'A_14', 'A_6']\n",
      "Cycle 4 completed\n",
      "\n",
      "Full run (uninterrupted):\n",
      "Iteration 0: Dataset A, Batch: ['A_0', 'A_17', 'A_15', 'A_1', 'A_8']\n",
      "Iteration 1: Dataset B, Batch: ['B_8', 'B_1', 'B_5', 'B_0', 'B_7']\n",
      "Iteration 2: Dataset C, Batch: ['C_1', 'C_4', 'C_2', 'C_0', 'C_3']\n",
      "Cycle 1 completed\n",
      "Iteration 3: Dataset B, Batch: ['B_2', 'B_9', 'B_4', 'B_3', 'B_6']\n",
      "Iteration 4: Dataset C, Batch: ['C_3', 'C_1', 'C_2', 'C_0', 'C_4']\n",
      "Iteration 5: Dataset A, Batch: ['A_5', 'A_11', 'A_3', 'A_18', 'A_16']\n",
      "Cycle 2 completed\n",
      "Iteration 6: Dataset C, Batch: ['C_1', 'C_0', 'C_3', 'C_4', 'C_2']\n",
      "Iteration 7: Dataset B, Batch: ['B_0', 'B_1', 'B_8', 'B_5', 'B_3']\n",
      "Iteration 8: Dataset A, Batch: ['A_13', 'A_2', 'A_9', 'A_19', 'A_4']\n",
      "Cycle 3 completed\n",
      "Iteration 9: Dataset C, Batch: ['C_0', 'C_1', 'C_2', 'C_3', 'C_4']\n",
      "Iteration 10: Dataset B, Batch: ['B_4', 'B_7', 'B_9', 'B_6', 'B_2']\n",
      "Iteration 11: Dataset A, Batch: ['A_12', 'A_7', 'A_10', 'A_14', 'A_6']\n",
      "Cycle 4 completed\n",
      "\n",
      "StatefulLongCycler test passed!\n"
     ]
    }
   ],
   "source": [
    "test_stateful_long_cycler()"
   ]
  },
  {
   "cell_type": "code",
   "execution_count": null,
   "metadata": {},
   "outputs": [],
   "source": []
  }
 ],
 "metadata": {
  "kernelspec": {
   "display_name": "Python 3 (ipykernel)",
   "language": "python",
   "name": "python3"
  }
 },
 "nbformat": 4,
 "nbformat_minor": 2
}
