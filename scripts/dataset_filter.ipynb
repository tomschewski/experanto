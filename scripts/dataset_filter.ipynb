{
 "cells": [
  {
   "cell_type": "code",
   "execution_count": 40,
   "metadata": {},
   "outputs": [
    {
     "name": "stdout",
     "output_type": "stream",
     "text": [
      "The autoreload extension is already loaded. To reload it, use:\n",
      "  %reload_ext autoreload\n",
      "/src/code/Enigma/Libraries/PRS/tensorfabrik\n"
     ]
    }
   ],
   "source": [
    "%load_ext autoreload\n",
    "%autoreload 2\n",
    "import numpy as np\n",
    "import json\n",
    "\n",
    "import os\n",
    "print(os.getcwd())\n",
    "os.chdir(\"/src/code/Enigma/Libraries/PRS/tensorfabrik\")"
   ]
  },
  {
   "cell_type": "code",
   "execution_count": 41,
   "metadata": {},
   "outputs": [],
   "source": [
    "# data_path = \"/data/mouse/dynamic27468-6-9-Video-b448915027fa4aa145acc0c00199ff15\"\n",
    "data_path = \"/data/mouse/dynamic29156-11-10-Video-8a2a991e21dab2348d145f2fffa6bad1\""
   ]
  },
  {
   "cell_type": "code",
   "execution_count": 42,
   "metadata": {},
   "outputs": [],
   "source": [
    "from experanto.configs import DEFAULT_CONFIG as cfg\n"
   ]
  },
  {
   "cell_type": "code",
   "execution_count": 43,
   "metadata": {},
   "outputs": [
    {
     "data": {
      "text/plain": [
       "{'screen': {'keep_nans': False, 'sampling_rate': 30, 'chunk_size': 60, 'valid_condition': {'tier': 'train'}, 'offset': 0, 'sample_stride': 1, 'include_blanks': True, 'transforms': {'normalization': 'screen_default'}, 'interpolation': {'rescale': True, 'rescale_size': [36, 64]}}, 'responses': {'keep_nans': False, 'sampling_rate': 8, 'chunk_size': 16, 'offset': 0.0, 'transforms': {'normalization': 'recompute_responses'}, 'interpolation': {'interpolation_mode': 'nearest_neighbor'}, 'filters': {'nan_filter': {'__target__': 'experanto.filters.common_filters.nan_filter', '__partial__': True, 'vicinity': 0.05}}}, 'eye_tracker': {'keep_nans': False, 'sampling_rate': 30, 'chunk_size': 60, 'offset': 0, 'transforms': {'normalization': 'recompute_behavior'}, 'interpolation': {'interpolation_mode': 'nearest_neighbor'}, 'filters': {'nan_filter': {'__target__': 'experanto.filters.common_filters.nan_filter', '__partial__': True, 'vicinity': 0.05}}}, 'treadmill': {'keep_nans': False, 'sampling_rate': 30, 'chunk_size': 60, 'offset': 0, 'transforms': {'normalization': 'recompute_behavior'}, 'interpolation': {'interpolation_mode': 'nearest_neighbor'}, 'filters': {'nan_filter': {'__target__': 'experanto.filters.common_filters.nan_filter', '__partial__': True, 'vicinity': 0.05}}}}"
      ]
     },
     "execution_count": 43,
     "metadata": {},
     "output_type": "execute_result"
    }
   ],
   "source": [
    "cfg.dataset.modality_config"
   ]
  },
  {
   "cell_type": "code",
   "execution_count": 44,
   "metadata": {},
   "outputs": [],
   "source": [
    "from experanto.datasets import ChunkDataset"
   ]
  },
  {
   "cell_type": "code",
   "execution_count": 45,
   "metadata": {},
   "outputs": [
    {
     "name": "stdout",
     "output_type": "stream",
     "text": [
      "modality: responses, filter: nan_filter\n",
      "Interval Statistics, Total Duration: 7326.206s):\n",
      "  Valid Intervals (1):\n",
      "    - Total Duration: 7326.206s (100.00%)\n",
      "    - Mean Duration:  7326.206s\n",
      "    - Std Dev:        0.000s\n",
      "  Invalid Intervals (0):\n",
      "    - Total Duration: 0.000s (0.00%)\n",
      "    - Mean Duration:  0.000s\n",
      "    - Std Dev:        0.000s\n",
      "\n",
      "modality: eye_tracker, filter: nan_filter\n",
      "Interval Statistics, Total Duration: 7326.206s):\n",
      "  Valid Intervals (151):\n",
      "    - Total Duration: 7302.405s (99.68%)\n",
      "    - Mean Duration:  48.360s\n",
      "    - Std Dev:        142.376s\n",
      "  Invalid Intervals (150):\n",
      "    - Total Duration: 23.800s (0.32%)\n",
      "    - Mean Duration:  0.159s\n",
      "    - Std Dev:        0.142s\n",
      "\n",
      "modality: treadmill, filter: nan_filter\n",
      "Interval Statistics, Total Duration: 7326.206s):\n",
      "  Valid Intervals (1):\n",
      "    - Total Duration: 7326.206s (100.00%)\n",
      "    - Mean Duration:  7326.206s\n",
      "    - Std Dev:        0.000s\n",
      "  Invalid Intervals (0):\n",
      "    - Total Duration: 0.000s (0.00%)\n",
      "    - Mean Duration:  0.000s\n",
      "    - Std Dev:        0.000s\n",
      "\n",
      "len(sample_mask):  219728\n",
      "sum(sample_mask):  202872\n"
     ]
    }
   ],
   "source": [
    "dataset = ChunkDataset(data_path, global_sampling_rate=cfg.dataset.global_sampling_rate, global_chunk_size=cfg.dataset.global_chunk_size, modality_config=cfg.dataset.modality_config)"
   ]
  },
  {
   "cell_type": "code",
   "execution_count": 36,
   "metadata": {},
   "outputs": [
    {
     "name": "stdout",
     "output_type": "stream",
     "text": [
      "3979\n"
     ]
    }
   ],
   "source": [
    "print(len(dataset))"
   ]
  },
  {
   "cell_type": "code",
   "execution_count": 38,
   "metadata": {},
   "outputs": [],
   "source": [
    "item = dataset[2000]"
   ]
  },
  {
   "cell_type": "code",
   "execution_count": 39,
   "metadata": {},
   "outputs": [
    {
     "data": {
      "text/plain": [
       "tensor(12)"
      ]
     },
     "execution_count": 39,
     "metadata": {},
     "output_type": "execute_result"
    }
   ],
   "source": [
    "item[\"eye_tracker\"].isnan().sum()\n"
   ]
  },
  {
   "cell_type": "code",
   "execution_count": null,
   "metadata": {},
   "outputs": [],
   "source": []
  }
 ],
 "metadata": {
  "kernelspec": {
   "display_name": "Python 3 (ipykernel)",
   "language": "python",
   "name": "python3"
  }
 },
 "nbformat": 4,
 "nbformat_minor": 2
}
