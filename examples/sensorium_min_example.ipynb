{
 "cells": [
  {
   "cell_type": "markdown",
   "id": "d9d831be",
   "metadata": {},
   "source": [
    "## Make dataloader"
   ]
  },
  {
   "cell_type": "code",
   "execution_count": 1,
   "id": "412aa32c",
   "metadata": {},
   "outputs": [
    {
     "name": "stderr",
     "output_type": "stream",
     "text": [
      "/user/turishcheva/anaconda3/envs/sensorium/lib/python3.9/site-packages/tqdm/auto.py:22: TqdmWarning: IProgress not found. Please update jupyter and ipywidgets. See https://ipywidgets.readthedocs.io/en/stable/user_install.html\n",
      "  from .autonotebook import tqdm as notebook_tqdm\n"
     ]
    }
   ],
   "source": [
    "import sys\n",
    "sys.path.append('/srv/user/turishcheva/experanto_video_dev/experanto/')\n",
    "from experanto.data import Mouse2pVideoDataset\n",
    "from torch.utils.data import DataLoader\n",
    "import numpy as np\n",
    "from tqdm import tqdm\n",
    "import matplotlib.pyplot as plt\n",
    "from torch.utils.data import DataLoader\n",
    "from collections import OrderedDict"
   ]
  },
  {
   "cell_type": "code",
   "execution_count": 2,
   "id": "506b804a",
   "metadata": {},
   "outputs": [],
   "source": [
    "# !nvidia-smi"
   ]
  },
  {
   "cell_type": "code",
   "execution_count": 3,
   "id": "e5c451a6",
   "metadata": {},
   "outputs": [],
   "source": [
    "m = 'dynamic29712-5-9-Video-full' # mouse\n",
    "path_pre = '/usr/users/agecker/datasets/funct_foundational_data/new_export_for_esperanto_dev/'"
   ]
  },
  {
   "cell_type": "code",
   "execution_count": 4,
   "id": "37d7fd5c",
   "metadata": {},
   "outputs": [],
   "source": [
    "root_folder = f'{path_pre}{m}'"
   ]
  },
  {
   "cell_type": "markdown",
   "id": "b6e0bc39",
   "metadata": {},
   "source": [
    "**Important**\n",
    "\n",
    "* If the `stim_duration` is below 65 -> change skip parameter in the sensorium evaluation function (to 20, for default sensorium configularion)\n",
    "https://github.com/ecker-lab/sensorium_2023/blob/main/sensorium/utility/scores.py#L10\n",
    "* Also note that original sensorium was released in 36 x 64 resolution, 144 x 256 might require more GPU memory"
   ]
  },
  {
   "cell_type": "code",
   "execution_count": 5,
   "id": "03e1c61f",
   "metadata": {},
   "outputs": [],
   "source": [
    "train_dataset = Mouse2pVideoDataset(root_folder=root_folder,\n",
    "        tier='train',\n",
    "        stim_duration=30,\n",
    "        sampling_rate=30,\n",
    "        subsample=True,\n",
    "        cut=True,\n",
    "        add_channel=True,\n",
    "        channel_pos=0,\n",
    "        interp_config = {\n",
    "            'screen' : {'rescale': True, 'normalize':True, },\n",
    "            'responses' : {'keep_nans' : False, \n",
    "#                            'interpolation_mode' : 'nearest_neighbor',\n",
    "                           'interpolation_mode' : 'linear', \n",
    "                           'interp_window' : 5,\n",
    "                           'normalize':True,\n",
    "                           'normalize_subtract_mean' : False,\n",
    "                           'normalize_std_threshold': 0.01\n",
    "                          },\n",
    "            'eye_tracker' : {'keep_nans' : False, \n",
    "                           'interpolation_mode' : 'linear', \n",
    "                           'interp_window' : 5,\n",
    "                           'normalize':True,\n",
    "                           'normalize_subtract_mean' : True,\n",
    "                           'normalize_std_threshold': None\n",
    "                            },\n",
    "            'treadmill' : {'keep_nans' : False, \n",
    "                           'interpolation_mode' : 'linear', \n",
    "                           'interp_window' : 5,\n",
    "                           'normalize':True,\n",
    "                           'normalize_subtract_mean' : True,\n",
    "                           'normalize_std_threshold': None\n",
    "                          },\n",
    "            }\n",
    "                                   )"
   ]
  },
  {
   "cell_type": "code",
   "execution_count": 6,
   "id": "d2afb9aa",
   "metadata": {},
   "outputs": [],
   "source": [
    "val_dataset = Mouse2pVideoDataset(\n",
    "    root_folder,\n",
    "    tier='oracle',\n",
    "        stim_duration=30,\n",
    "        sampling_rate=30,\n",
    "        subsample=False, # this would start taking chunks from the begining always\n",
    "        cut=False,\n",
    "        add_channel=True,\n",
    "        channel_pos=0,\n",
    "        interp_config = {\n",
    "            'screen' : {'rescale': True, 'normalize':True,},\n",
    "            'responses' : {'keep_nans' : False, \n",
    "#                            'interpolation_mode' : 'nearest_neighbor',\n",
    "                           'interpolation_mode' : 'linear', \n",
    "                           'interp_window' : 5,\n",
    "                           'normalize':True,\n",
    "                           'normalize_subtract_mean' : False,\n",
    "                           'normalize_std_threshold': 0.01\n",
    "                          },\n",
    "            'eye_tracker' : {'keep_nans' : False, \n",
    "                           'interpolation_mode' : 'linear', \n",
    "                           'interp_window' : 5,\n",
    "                           'normalize':True,\n",
    "                           'normalize_subtract_mean' : True,\n",
    "                           'normalize_std_threshold': None\n",
    "                            },\n",
    "            'treadmill' : {'keep_nans' : False, \n",
    "                           'interpolation_mode' : 'linear', \n",
    "                           'interp_window' : 5,\n",
    "                           'normalize':True,\n",
    "                           'normalize_subtract_mean' : True,\n",
    "                           'normalize_std_threshold': None\n",
    "                          },\n",
    "            }\n",
    "    )"
   ]
  },
  {
   "cell_type": "code",
   "execution_count": 16,
   "id": "455b0c49",
   "metadata": {},
   "outputs": [],
   "source": [
    "batch_size = 1\n",
    "# batch_size = 2\n",
    "data_loaders = OrderedDict()\n",
    "\n",
    "data_loaders['train'] = OrderedDict()\n",
    "data_loaders['oracle'] = OrderedDict()\n",
    "data_loaders['train'][m] =  DataLoader(train_dataset, batch_size=batch_size, shuffle=True)\n",
    "data_loaders['oracle'][m] = DataLoader(val_dataset, batch_size=batch_size, shuffle=False)"
   ]
  },
  {
   "cell_type": "code",
   "execution_count": 18,
   "id": "7b18e133",
   "metadata": {
    "scrolled": true
   },
   "outputs": [],
   "source": [
    "it =next(iter(data_loaders['train'][m]))\n",
    "# time is always first dim"
   ]
  },
  {
   "cell_type": "code",
   "execution_count": 21,
   "id": "44ad42b6",
   "metadata": {},
   "outputs": [
    {
     "data": {
      "text/plain": [
       "torch.Size([1, 1, 30, 144, 256])"
      ]
     },
     "execution_count": 21,
     "metadata": {},
     "output_type": "execute_result"
    }
   ],
   "source": [
    "it.screen.shape"
   ]
  },
  {
   "cell_type": "code",
   "execution_count": 22,
   "id": "6d0b6bcc",
   "metadata": {},
   "outputs": [
    {
     "data": {
      "text/plain": [
       "torch.Size([1, 7939, 30])"
      ]
     },
     "execution_count": 22,
     "metadata": {},
     "output_type": "execute_result"
    }
   ],
   "source": [
    "it.responses.shape"
   ]
  },
  {
   "cell_type": "code",
   "execution_count": 23,
   "id": "9289f190",
   "metadata": {},
   "outputs": [
    {
     "data": {
      "text/plain": [
       "torch.Size([1, 30, 4])"
      ]
     },
     "execution_count": 23,
     "metadata": {},
     "output_type": "execute_result"
    }
   ],
   "source": [
    "it.eye_tracker.shape"
   ]
  },
  {
   "cell_type": "code",
   "execution_count": 24,
   "id": "5c5ccceb",
   "metadata": {},
   "outputs": [
    {
     "data": {
      "text/plain": [
       "torch.Size([1, 30])"
      ]
     },
     "execution_count": 24,
     "metadata": {},
     "output_type": "execute_result"
    }
   ],
   "source": [
    "it.treadmill.shape"
   ]
  },
  {
   "cell_type": "code",
   "execution_count": 16,
   "id": "7d0bbab3",
   "metadata": {},
   "outputs": [
    {
     "data": {
      "text/plain": [
       "[<matplotlib.lines.Line2D at 0x7f23d13955b0>]"
      ]
     },
     "execution_count": 16,
     "metadata": {},
     "output_type": "execute_result"
    },
    {
     "data": {
      "image/png": "[encoded data removed]",
      "text/plain": [
       "<Figure size 640x480 with 1 Axes>"
      ]
     },
     "metadata": {},
     "output_type": "display_data"
    }
   ],
   "source": [
    "plt.plot(it.responses[0, 0], 'o')"
   ]
  },
  {
   "cell_type": "code",
   "execution_count": 17,
   "id": "59fc4007",
   "metadata": {},
   "outputs": [
    {
     "data": {
      "text/plain": [
       "[<matplotlib.lines.Line2D at 0x7f2208d598b0>]"
      ]
     },
     "execution_count": 17,
     "metadata": {},
     "output_type": "execute_result"
    },
    {
     "data": {
      "image/png": "[encoded data removed]",
      "text/plain": [
       "<Figure size 640x480 with 1 Axes>"
      ]
     },
     "metadata": {},
     "output_type": "display_data"
    }
   ],
   "source": [
    "plt.plot(it.treadmill[0], '-o')"
   ]
  },
  {
   "cell_type": "code",
   "execution_count": 20,
   "id": "439b6b1a",
   "metadata": {},
   "outputs": [
    {
     "data": {
      "text/plain": [
       "[<matplotlib.lines.Line2D at 0x7f2208d480a0>]"
      ]
     },
     "execution_count": 20,
     "metadata": {},
     "output_type": "execute_result"
    },
    {
     "data": {
      "image/png": "[encoded data removed]",
      "text/plain": [
       "<Figure size 640x480 with 1 Axes>"
      ]
     },
     "metadata": {},
     "output_type": "display_data"
    }
   ],
   "source": [
    "plt.plot(it.eye_tracker[0, :, 0], '-o')"
   ]
  },
  {
   "cell_type": "code",
   "execution_count": 21,
   "id": "d1186443",
   "metadata": {},
   "outputs": [
    {
     "data": {
      "text/plain": [
       "array([[-1357,  -467,   300],\n",
       "       [-1369,  -478,   300],\n",
       "       [-1304,  -480,   300],\n",
       "       ...,\n",
       "       [ -887,  -321,   225],\n",
       "       [-1039,   118,   225],\n",
       "       [-1249,  -321,   225]])"
      ]
     },
     "execution_count": 21,
     "metadata": {},
     "output_type": "execute_result"
    }
   ],
   "source": [
    "train_dataset.neurons.cell_motor_coordinates"
   ]
  },
  {
   "cell_type": "markdown",
   "id": "041c8721",
   "metadata": {},
   "source": [
    "## Make and test forward pass for sensorium"
   ]
  },
  {
   "cell_type": "code",
   "execution_count": 25,
   "id": "70c2c2fa",
   "metadata": {},
   "outputs": [],
   "source": [
    "seed = 42\n",
    "import sys\n",
    "sys.path.append('/srv/user/turishcheva/sensorium_replicate/sensorium_2023/')\n",
    "sys.path.append('/srv/user/turishcheva/sensorium_replicate/neuralpredictors/')\n",
    "import torch\n",
    "from nnfabrik.utility.nn_helpers import set_random_seed\n",
    "set_random_seed(seed)\n",
    "\n",
    "from sensorium.datasets.mouse_video_loaders import mouse_video_loader\n",
    "from sensorium.utility.scores import get_correlations\n",
    "from nnfabrik.builder import get_trainer\n",
    "from sensorium.models.make_model import make_video_model"
   ]
  },
  {
   "cell_type": "code",
   "execution_count": 26,
   "id": "78705901",
   "metadata": {},
   "outputs": [],
   "source": [
    "factorised_3D_core_dict = dict(\n",
    "    input_channels=1, # increase if behaviour is used\n",
    "    hidden_channels=[32, 64, 128],\n",
    "    spatial_input_kernel=(11,11),\n",
    "    temporal_input_kernel=11,\n",
    "    spatial_hidden_kernel=(5,5),\n",
    "    temporal_hidden_kernel=5,\n",
    "    stride=1,\n",
    "    layers=3,\n",
    "    gamma_input_spatial=10,\n",
    "    gamma_input_temporal=0.01, \n",
    "    bias=True, \n",
    "    hidden_nonlinearities='elu', \n",
    "    x_shift=0, \n",
    "    y_shift=0,\n",
    "    batch_norm=True, \n",
    "    laplace_padding=None,\n",
    "    input_regularizer='LaplaceL2norm',\n",
    "    padding=False,\n",
    "    final_nonlin=True,\n",
    "    momentum=0.7\n",
    ")\n",
    "\n",
    "\n",
    "shifter_dict=None\n",
    "\n",
    "\n",
    "readout_dict = dict(\n",
    "    bias=True,\n",
    "    init_mu_range=0.2,\n",
    "    init_sigma=1.0,\n",
    "    gamma_readout=0.0,\n",
    "    gauss_type='full',\n",
    "#     grid_mean_predictor=None,\n",
    "    grid_mean_predictor={\n",
    "        'type': 'cortex',\n",
    "        'input_dimensions': 2,\n",
    "        'hidden_layers': 1,\n",
    "        'hidden_features': 30,\n",
    "        'final_tanh': True\n",
    "    },\n",
    "    share_features=False,\n",
    "    share_grid=False,\n",
    "    shared_match_ids=None,\n",
    "    gamma_grid_dispersion=0.0,\n",
    ")"
   ]
  },
  {
   "cell_type": "code",
   "execution_count": 27,
   "id": "6413f24c",
   "metadata": {},
   "outputs": [
    {
     "name": "stderr",
     "output_type": "stream",
     "text": [
      "/srv/user/turishcheva/experanto_video_dev/experanto/experanto/interpolators.py:325: UserWarning: Image size changes aspect ratio.\n",
      "  warnings.warn(\"Image size changes aspect ratio.\")\n",
      "/srv/user/turishcheva/sensorium_replicate/neuralpredictors/neuralpredictors/layers/cores/base.py:82: UserWarning: The batch_norm is applied to all layers\n",
      "  warnings.warn(f\"The {attr} is applied to all layers\", UserWarning)\n",
      "/srv/user/turishcheva/sensorium_replicate/neuralpredictors/neuralpredictors/layers/cores/base.py:82: UserWarning: The bias is applied to all layers\n",
      "  warnings.warn(f\"The {attr} is applied to all layers\", UserWarning)\n",
      "/srv/user/turishcheva/sensorium_replicate/neuralpredictors/neuralpredictors/layers/cores/base.py:82: UserWarning: The batch_norm_scale is applied to all layers\n",
      "  warnings.warn(f\"The {attr} is applied to all layers\", UserWarning)\n",
      "/srv/user/turishcheva/sensorium_replicate/neuralpredictors/neuralpredictors/layers/readouts/base.py:74: UserWarning: Use of 'gamma_readout' is deprecated. Use 'feature_reg_weight' instead. If 'feature_reg_weight' is defined, 'gamma_readout' is ignored\n",
      "  warnings.warn(\n"
     ]
    }
   ],
   "source": [
    "factorised_3d_model = make_video_model(\n",
    "    data_loaders,\n",
    "    seed,\n",
    "    core_dict=factorised_3D_core_dict,\n",
    "    core_type='3D_factorised',\n",
    "    readout_dict=readout_dict.copy(),\n",
    "    readout_type='gaussian',               \n",
    "    use_gru=False,\n",
    "    gru_dict=None,\n",
    "    use_shifter=False,\n",
    "    shifter_dict=shifter_dict,\n",
    "    shifter_type='MLP',\n",
    "    deeplake_ds=False,\n",
    ")"
   ]
  },
  {
   "cell_type": "code",
   "execution_count": 28,
   "id": "b5d280e9",
   "metadata": {},
   "outputs": [
    {
     "data": {
      "text/plain": [
       "VideoFiringRateEncoder(\n",
       "  (core): Factorized3dCore(\n",
       "    (_input_weight_regularizer): LaplaceL2norm(\n",
       "      (laplace): Laplace()\n",
       "    )\n",
       "    (temporal_regularizer): DepthLaplaceL21d(\n",
       "      (laplace): Laplace1d()\n",
       "    )\n",
       "    (features): Sequential(\n",
       "      (layer0): Sequential(\n",
       "        (conv_spatial): Conv3d(1, 32, kernel_size=(1, 11, 11), stride=(1, 1, 1))\n",
       "        (conv_temporal): Conv3d(32, 32, kernel_size=(11, 1, 1), stride=(1, 1, 1))\n",
       "        (norm): BatchNorm3d(32, eps=1e-05, momentum=0.7, affine=True, track_running_stats=True)\n",
       "        (nonlin): ELU(alpha=1.0)\n",
       "      )\n",
       "      (layer1): Sequential(\n",
       "        (conv_spatial_1): Conv3d(32, 64, kernel_size=(1, 5, 5), stride=(1, 1, 1))\n",
       "        (conv_temporal_1): Conv3d(64, 64, kernel_size=(5, 1, 1), stride=(1, 1, 1))\n",
       "        (norm): BatchNorm3d(64, eps=1e-05, momentum=0.7, affine=True, track_running_stats=True)\n",
       "        (nonlin): ELU(alpha=1.0)\n",
       "      )\n",
       "      (layer2): Sequential(\n",
       "        (conv_spatial_2): Conv3d(64, 128, kernel_size=(1, 5, 5), stride=(1, 1, 1))\n",
       "        (conv_temporal_2): Conv3d(128, 128, kernel_size=(5, 1, 1), stride=(1, 1, 1))\n",
       "        (norm): BatchNorm3d(128, eps=1e-05, momentum=0.7, affine=True, track_running_stats=True)\n",
       "        (nonlin): ELU(alpha=1.0)\n",
       "      )\n",
       "    )\n",
       "  ) [Factorized3dCore regularizers: gamma_input_spatial = 10|gamma_input_temporal = 0.01]\n",
       "  \n",
       "  (readout): MultipleFullGaussian2d(\n",
       "    (dynamic29712-5-9-Video-full): full FullGaussian2d (128 x 126 x 238 -> 7939) with bias, with predicted grid  -> Sequential(\n",
       "      (0): Linear(in_features=2, out_features=30, bias=True)\n",
       "      (1): ELU(alpha=1.0)\n",
       "      (2): Linear(in_features=30, out_features=2, bias=True)\n",
       "      (3): Tanh()\n",
       "    )\n",
       "    \n",
       "  )\n",
       "  (nonlinearity_fn): ELU(alpha=1.0)\n",
       ")"
      ]
     },
     "execution_count": 28,
     "metadata": {},
     "output_type": "execute_result"
    }
   ],
   "source": [
    "factorised_3d_model"
   ]
  },
  {
   "cell_type": "code",
   "execution_count": 30,
   "id": "b2681947",
   "metadata": {},
   "outputs": [
    {
     "data": {
      "text/plain": [
       "OrderedDict([('train',\n",
       "              OrderedDict([('dynamic29712-5-9-Video-full',\n",
       "                            <torch.utils.data.dataloader.DataLoader at 0x7f78dff9a100>)])),\n",
       "             ('oracle',\n",
       "              OrderedDict([('dynamic29712-5-9-Video-full',\n",
       "                            <torch.utils.data.dataloader.DataLoader at 0x7f78dff9a2e0>)]))])"
      ]
     },
     "execution_count": 30,
     "metadata": {},
     "output_type": "execute_result"
    }
   ],
   "source": [
    "data_loaders"
   ]
  },
  {
   "cell_type": "code",
   "execution_count": 31,
   "id": "03dd5ef6",
   "metadata": {},
   "outputs": [],
   "source": [
    "# device = 'cpu'\n",
    "device = 'cuda:7'\n",
    "torch.cuda.set_device(device)"
   ]
  },
  {
   "cell_type": "code",
   "execution_count": 32,
   "id": "c7dd295f",
   "metadata": {},
   "outputs": [],
   "source": [
    "# started at 18-24\n",
    "trainer_fn = \"sensorium.training.video_training_loop.standard_trainer\"\n",
    "\n",
    "trainer_config = {\n",
    "    'dataloaders': data_loaders,\n",
    "    'seed' : 111,\n",
    "    'use_wandb' : False,\n",
    "    'verbose': True,\n",
    "    'lr_decay_steps': 4,\n",
    "    'lr_init': 0.005,\n",
    "    'device' : device,\n",
    "    'detach_core' : False,\n",
    "    \n",
    "    # todo - put this to True if you are using deeplake\n",
    "    # first connections to deeplake may take up for 10 mins\n",
    "    'deeplake_ds' : False,\n",
    "    'checkpoint_save_path': './loc2/',\n",
    "    'max_iter': 3, # mock 5 epochs\n",
    "                 }\n",
    "\n",
    "trainer = get_trainer(trainer_fn=trainer_fn, \n",
    "                 trainer_config=trainer_config)"
   ]
  },
  {
   "cell_type": "code",
   "execution_count": null,
   "id": "0d3ed2d7",
   "metadata": {
    "scrolled": true
   },
   "outputs": [
    {
     "name": "stdout",
     "output_type": "stream",
     "text": [
      "optim_step_count = 1\n"
     ]
    },
    {
     "name": "stderr",
     "output_type": "stream",
     "text": [
      "Epoch 1: 100%|███████████████████████████████████████████████████████████████████████████████████████████████████████████████████████████████████████████████████████████████████████████████| 359/359 [01:38<00:00,  3.63it/s]\n"
     ]
    },
    {
     "name": "stdout",
     "output_type": "stream",
     "text": [
      "Epoch 1, Batch 358, Train loss -3636020.884074434, Validation loss -1556940.690668463\n",
      "EPOCH=1  validation_correlation=0.004351403137395584\n"
     ]
    },
    {
     "name": "stderr",
     "output_type": "stream",
     "text": [
      "Epoch 2: 100%|███████████████████████████████████████████████████████████████████████████████████████████████████████████████████████████████████████████████████████████████████████████████| 359/359 [01:44<00:00,  3.44it/s]\n"
     ]
    }
   ],
   "source": [
    "# 19-11\n",
    "validation_score, trainer_output, state_dict = trainer(factorised_3d_model)"
   ]
  },
  {
   "cell_type": "markdown",
   "id": "1233085b",
   "metadata": {},
   "source": [
    "## [Optional] Script to match tiers for new five sensorium mice"
   ]
  },
  {
   "cell_type": "markdown",
   "id": "135e47de",
   "metadata": {},
   "source": [
    "This works only for [these](https://gin.g-node.org/pollytur/sensorium_2023_dataset) five later released mice.  \n",
    "For [these](https://gin.g-node.org/pollytur/sensorium_2023_data/src/798ba8ad041d8f0f0ce879af396d52c7238c2730) the `trial_idx.npy` file was not released, I am working on this matching and will update it when available\n",
    "\n",
    "Current dataloader will not be able to handle the natural images partition of sensorium, but this was an OOD partition (live and final tests), so this should be fine so far"
   ]
  },
  {
   "cell_type": "code",
   "execution_count": null,
   "id": "04eea32b",
   "metadata": {},
   "outputs": [],
   "source": [
    "import yaml\n",
    "import os\n",
    "from tqdm import tqdm\n",
    "from collections import Counter"
   ]
  },
  {
   "cell_type": "markdown",
   "id": "9d045922",
   "metadata": {},
   "source": [
    "### Sessions without images"
   ]
  },
  {
   "cell_type": "code",
   "execution_count": null,
   "id": "16ed8821",
   "metadata": {},
   "outputs": [],
   "source": [
    "path_to_old = ...\n",
    "path_to_new = ...\n",
    "path_to_save_matching = ...\n",
    "for m in ['dynamic29515-10-12-Video-full', 'dynamic29712-5-9-Video-full']:\n",
    "    matching = {}\n",
    "    yaml_pre_path = f'{path_to_new}{m}/screen/meta/'\n",
    "    tiers_prev = np.load(f'{path_to_old}{m.replace(\"full\", \"\")}9b4f6a1a067fe51e15306b9628efea20/trials/tiers.npy')\n",
    "    trial_idx_prev = np.asarray([int(i) for i in np.load(f'{path_to_old}{m.replace(\"full\", \"\")}9b4f6a1a067fe51e15306b9628efea20/trials/trial_idx.npy')])\n",
    "    \n",
    "    for file in tqdm(os.listdir(yaml_pre_path)):\n",
    "        with open(f'{yaml_pre_path}{file}', 'r') as f:\n",
    "            data = yaml.safe_load(f)\n",
    "        if data['modality'] != 'blank':\n",
    "            if len(np.where(trial_idx_prev ==data['trial_idx'])[0]) ==0:\n",
    "                matching[data['trial_idx']] = 'none'\n",
    "            else:\n",
    "                matching[data['trial_idx']] = tiers_prev[np.where(trial_idx_prev == data['trial_idx'])[0]][0]\n",
    "    print(m)\n",
    "    print(Counter(matching.values()))\n",
    "    print(Counter(tiers_prev))\n",
    "    print('\\n\\n')\n",
    "    \n",
    "    with open(f'{path_to_save_matching}/{m.replace(\"-Video-full\", \"_match\")}.pkl', 'wb') as f:\n",
    "        pickle.dump(matching, f)"
   ]
  },
  {
   "cell_type": "markdown",
   "id": "2ed9956b",
   "metadata": {},
   "source": [
    "### Sessions with images"
   ]
  },
  {
   "cell_type": "code",
   "execution_count": null,
   "id": "dfbed142",
   "metadata": {},
   "outputs": [],
   "source": [
    "for m in ['dynamic29623-4-9-Video-full', 'dynamic29647-19-8-Video-full', 'dynamic29755-2-8-Video-full']:\n",
    "    matching = {}\n",
    "    yaml_pre_path = f'{path_to_new}{m}/screen/meta/'\n",
    "    tiers_prev = np.load(f'{path_to_old}{m.replace(\"full\", \"\")}9b4f6a1a067fe51e15306b9628efea20/trials/tiers.npy')\n",
    "    trial_idx_prev_ = np.load(f'{path_to_old}{m.replace(\"full\", \"\")}9b4f6a1a067fe51e15306b9628efea20/trials/trial_idx.npy')\n",
    "\n",
    "\n",
    "    trial_idx_prev = []\n",
    "    images = []\n",
    "    imaged_idx = []\n",
    "    not_found = []\n",
    "    for idx, i in enumerate(trial_idx_prev_):\n",
    "        if len(i.split('--')) == 1:\n",
    "            trial_idx_prev.append(int(i))\n",
    "        else:\n",
    "            trial_idx_prev.append(-1)\n",
    "            images.append([int(j) for j in i.split('--')])\n",
    "            imaged_idx.append(idx)\n",
    "    trial_idx_prev = np.asarray(trial_idx_prev)\n",
    "    \n",
    "    for file in tqdm(os.listdir(yaml_pre_path)):\n",
    "        with open(f'{yaml_pre_path}{file}', 'r') as f:\n",
    "            data = yaml.safe_load(f)\n",
    "        if data['modality'] != 'blank':\n",
    "            if len(np.where(trial_idx_prev ==data['trial_idx'])[0]) ==0:\n",
    "                found = False\n",
    "                for num, lst in enumerate(images):\n",
    "                    if data['trial_idx'] in lst:\n",
    "                        matching[data['trial_idx']] = tiers_prev[imaged_idx[num]]\n",
    "                        found = True\n",
    "                # assert found, f\"id not found! {m} {file}\"\n",
    "                if not found:\n",
    "                    not_found.append(file)\n",
    "                    matching[data['trial_idx']] = 'none'\n",
    "                    \n",
    "            else:\n",
    "                matching[data['trial_idx']] = tiers_prev[np.where(trial_idx_prev == data['trial_idx'])[0]][0]\n",
    "    print(m)\n",
    "    print(f'not found {len(not_found)}, len(matching)={len(matching)}, len(tiers_prev) = {len(tiers_prev)}')\n",
    "    print(Counter(matching.values()))\n",
    "    print(Counter(tiers_prev))\n",
    "    \n",
    "    print('\\n\\n')\n",
    "    with open(f'{path_to_save_matching}{m.replace(\"-Video-full\", \"_match\")}.pkl', 'wb') as f:\n",
    "        pickle.dump(matching, f)"
   ]
  },
  {
   "cell_type": "markdown",
   "id": "55426187",
   "metadata": {},
   "source": [
    "## [Optional] Script to get statistics"
   ]
  },
  {
   "cell_type": "code",
   "execution_count": null,
   "id": "a7c3abdb",
   "metadata": {},
   "outputs": [],
   "source": [
    "sampling_dict = {\n",
    "    'screen' : 30,\n",
    "    'responses' : 8,\n",
    "    'eye_tracker' : 20,\n",
    "    'treadmill' : 100,\n",
    "}"
   ]
  },
  {
   "cell_type": "code",
   "execution_count": null,
   "id": "34f087d7",
   "metadata": {},
   "outputs": [],
   "source": [
    "for mod, sr in sampling_dict.items():\n",
    "    ds = Mouse2pVideoDataset(root_folder=root_folder,\n",
    "        tier='train',\n",
    "        stim_duration=30,\n",
    "        sampling_rate=sr,\n",
    "        subsample=True,\n",
    "        cut=False,\n",
    "        add_channel=True,\n",
    "        channel_pos=0,\n",
    "        interp_config = {\n",
    "            'screen' : {'rescale': True},\n",
    "            'responses' : {'keep_nans' : True, \n",
    "                           'interpolation_mode' : 'nearest_neighbor', \n",
    "                           'interp_window' : 0,\n",
    "                           'normalize':False,\n",
    "                           'normalize_subtract_mean' : False,\n",
    "                           'normalize_std_threshold': None\n",
    "                          },\n",
    "            \n",
    "            'eye_tracker' : {'keep_nans' : False, \n",
    "                           'interpolation_mode' : 'nearest_neighbor', \n",
    "                           'interp_window' : 0,\n",
    "                            'normalize':False,\n",
    "                           'normalize_subtract_mean' : False,\n",
    "                           'normalize_std_threshold': None\n",
    "                            },\n",
    "            'treadmill' : {'keep_nans' : False, \n",
    "                           'interpolation_mode' : 'nearest_neighbor', \n",
    "                           'interp_window' : 0,\n",
    "                           'normalize':False,\n",
    "                           'normalize_subtract_mean' : False,\n",
    "                           'normalize_std_threshold': None\n",
    "                          },\n",
    "        }\n",
    "    data_all = []\n",
    "    for i in tqdm(range(len(ds))):\n",
    "        data_all.append(np.squeeze(ds.__getitem__(i).screen))\n",
    "    data_all = np.concatenate(data_all)                     \n",
    "    means = np.nanmean(data_all, axis=0)\n",
    "    stds = np.nanstd(data_all, axis=0, ddof=1)   \n",
    "    if len(means.shape) == 0:\n",
    "        means = means.reshape(-1)\n",
    "        stds = stds.reshape(-1)\n",
    "    elif len(means.shape) != 2:\n",
    "        means = means.reshape(-1, 1)\n",
    "        stds = means.reshape(-1, 1)\n",
    "    np.save(f'{path_pre}{m}/{mod}/meta/means.npy', means)\n",
    "    np.save(f'{path_pre}{m}/{mod}/meta/stds.npy', stds)                   "
   ]
  }
 ],
 "metadata": {
  "kernelspec": {
   "display_name": "Python 3 (ipykernel)",
   "language": "python",
   "name": "python3"
  },
  "language_info": {
   "codemirror_mode": {
    "name": "ipython",
    "version": 3
   },
   "file_extension": ".py",
   "mimetype": "text/x-python",
   "name": "python",
   "nbconvert_exporter": "python",
   "pygments_lexer": "ipython3",
   "version": "3.10.16"
  }
 },
 "nbformat": 4,
 "nbformat_minor": 5
}
