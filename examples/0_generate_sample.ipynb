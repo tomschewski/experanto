{
 "cells": [
  {
   "cell_type": "code",
   "execution_count": 1,
   "id": "cdbd8582-fce2-4af1-8220-2eb368ca09e5",
   "metadata": {},
   "outputs": [],
   "source": [
    "# Suppress all warnings because there are a lot of annoying user warnings when downloading stuff\n",
    "import warnings\n",
    "warnings.filterwarnings(\"ignore\")\n",
    "\n",
    "# exporter functions from https://github.com/sensorium-competition/allen-exporter\n",
    "# clone and pip -e install\n",
    "from allen_exporter.exporter import multi_session_export"
   ]
  },
  {
   "cell_type": "markdown",
   "id": "de90bfc2-939e-4b74-a26d-83be5ab77953",
   "metadata": {},
   "source": [
    "## Sample export of the data"
   ]
  },
  {
   "cell_type": "code",
   "execution_count": 2,
   "id": "5af81740-3dac-46ed-a42b-db70440e0d28",
   "metadata": {},
   "outputs": [
    {
     "name": "stdout",
     "output_type": "stream",
     "text": [
      "Fetching experiment 951980471\n",
      "Fetching experiment 951980473\n"
     ]
    },
    {
     "name": "stderr",
     "output_type": "stream",
     "text": [
      "processing data: 13803it [00:06, 2016.29it/s]?it/s]\n"
     ]
    },
    {
     "name": "stdout",
     "output_type": "stream",
     "text": [
      "This is timestamps shape : (18435,)\n"
     ]
    },
    {
     "name": "stderr",
     "output_type": "stream",
     "text": [
      "processing data: 13803it [00:07, 1900.86it/s] 8.09s/it]\n"
     ]
    },
    {
     "name": "stdout",
     "output_type": "stream",
     "text": [
      "This is timestamps shape : (18435,)\n"
     ]
    },
    {
     "name": "stderr",
     "output_type": "stream",
     "text": [
      "Processing Experiment 951980473: 2it [00:16,  8.36s/it]"
     ]
    },
    {
     "name": "stdout",
     "output_type": "stream",
     "text": [
      "Export completed\n"
     ]
    },
    {
     "name": "stderr",
     "output_type": "stream",
     "text": [
      "\n"
     ]
    }
   ],
   "source": [
    "tiers = ['train', 'val']\n",
    "cache, ids = multi_session_export(2, tiers, compressed=False)"
   ]
  },
  {
   "cell_type": "code",
   "execution_count": null,
   "id": "917cca2f-a1be-4510-a27d-35ab7fe183b7",
   "metadata": {},
   "outputs": [],
   "source": []
  }
 ],
 "metadata": {
  "kernelspec": {
   "display_name": "Python 3 (ipykernel)",
   "language": "python",
   "name": "python3"
  },
  "language_info": {
   "codemirror_mode": {
    "name": "ipython",
    "version": 3
   },
   "file_extension": ".py",
   "mimetype": "text/x-python",
   "name": "python",
   "nbconvert_exporter": "python",
   "pygments_lexer": "ipython3",
   "version": "3.9.21"
  }
 },
 "nbformat": 4,
 "nbformat_minor": 5
}
