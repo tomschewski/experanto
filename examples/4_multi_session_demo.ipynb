{
 "cells": [
  {
   "cell_type": "code",
   "execution_count": 1,
   "id": "5d1c8676-602f-47bc-8ed0-900157d804f5",
   "metadata": {},
   "outputs": [],
   "source": [
    "%matplotlib inline\n",
    "%load_ext autoreload\n",
    "%autoreload 2\n",
    "\n",
    "import numpy as np\n",
    "import matplotlib.pyplot as plt\n",
    "from os import path\n",
    "import os\n",
    "\n",
    "import torch\n",
    "from torch.utils.data import DataLoader\n",
    "from tqdm import tqdm\n",
    "from omegaconf import OmegaConf, open_dict\n",
    "\n",
    "from experanto.datasets import ChunkDataset, SimpleChunkedDataset\n",
    "from experanto.utils import LongCycler, MultiEpochsDataLoader\n",
    "from experanto.dataloaders import get_multisession_dataloader"
   ]
  },
  {
   "cell_type": "code",
   "execution_count": 2,
   "id": "389c9a65-6f17-4029-a261-c28102b64527",
   "metadata": {},
   "outputs": [],
   "source": [
    "from experanto.configs import DEFAULT_CONFIG as cfg\n",
    "from omegaconf import OmegaConf, open_dict\n",
    "\n",
    "cfg.dataset.modality_config.screen.transforms.Resize.size = [144,144] \n",
    "cfg.dataset.modality_config.screen.interpolation.rescale_size = [144, 144]"
   ]
  },
  {
   "cell_type": "code",
   "execution_count": 3,
   "id": "6363aef2-5890-4e61-a9ef-0979565a1382",
   "metadata": {},
   "outputs": [
    {
     "name": "stdout",
     "output_type": "stream",
     "text": [
      "../data/allen_data/experiment_951980473_val\n",
      "../data/allen_data/experiment_951980471_train\n"
     ]
    }
   ],
   "source": [
    "parent_folder = '../data/allen_data'\n",
    "full_paths = [f.path for f in os.scandir(parent_folder) if f.is_dir()]\n",
    "\n",
    "for subfolder in full_paths:\n",
    "    print(subfolder)"
   ]
  },
  {
   "cell_type": "code",
   "execution_count": 4,
   "id": "8745bfc1-16ae-4d16-a7a0-cd21e0a1d6b4",
   "metadata": {},
   "outputs": [
    {
     "name": "stdout",
     "output_type": "stream",
     "text": [
      "No metadata file found at ../data/allen_data/experiment_951980473_val/meta.json\n"
     ]
    },
    {
     "name": "stderr",
     "output_type": "stream",
     "text": [
      "/usr/local/lib/python3.9/site-packages/torchvision/transforms/v2/_deprecated.py:42: UserWarning: The transform `ToTensor()` is deprecated and will be removed in a future release. Instead, please use `v2.Compose([v2.ToImage(), v2.ToDtype(torch.float32, scale=True)])`.Output is equivalent up to float precision.\n",
      "  warnings.warn(\n"
     ]
    },
    {
     "name": "stdout",
     "output_type": "stream",
     "text": [
      "No metadata file found at ../data/allen_data/experiment_951980471_train/meta.json\n"
     ]
    }
   ],
   "source": [
    "train_dl = get_multisession_dataloader(full_paths[:2], cfg)"
   ]
  },
  {
   "cell_type": "code",
   "execution_count": 5,
   "id": "33b20154-782a-4d74-9483-4eed5fd4a820",
   "metadata": {},
   "outputs": [
    {
     "data": {
      "text/plain": [
       "{'951980473_val': <experanto.utils.MultiEpochsDataLoader at 0x733f012b3af0>,\n",
       " '951980471_train': <experanto.utils.MultiEpochsDataLoader at 0x733dcf6d9070>}"
      ]
     },
     "execution_count": 5,
     "metadata": {},
     "output_type": "execute_result"
    }
   ],
   "source": [
    "train_dl.loaders"
   ]
  },
  {
   "cell_type": "code",
   "execution_count": null,
   "id": "9f6e69a9-e124-4fdf-aac1-fd696a5a885e",
   "metadata": {},
   "outputs": [],
   "source": []
  }
 ],
 "metadata": {
  "kernelspec": {
   "display_name": "Python 3 (ipykernel)",
   "language": "python",
   "name": "python3"
  },
  "language_info": {
   "codemirror_mode": {
    "name": "ipython",
    "version": 3
   },
   "file_extension": ".py",
   "mimetype": "text/x-python",
   "name": "python",
   "nbconvert_exporter": "python",
   "pygments_lexer": "ipython3",
   "version": "3.9.21"
  }
 },
 "nbformat": 4,
 "nbformat_minor": 5
}
